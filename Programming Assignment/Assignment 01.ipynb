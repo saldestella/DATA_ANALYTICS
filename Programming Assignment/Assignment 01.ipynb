{
 "cells": [
  {
   "cell_type": "markdown",
   "id": "85cf0245-9c73-45a5-b98e-bd576bcc8b74",
   "metadata": {},
   "source": [
    "$\\textbf{PROGRAMMING ASSIGNMENT}$\n",
    "---\n",
    "\n",
    "Data: https://archive.ics.uci.edu\n",
    "\n",
    "Instructions: Choose a dataset of your liking and perform the following:\n",
    "\n",
    "1. Create a Correlation Plot\n",
    "\n",
    "2. Check the distribution of each column and determine which probability distiribution it fits.\n",
    "\n",
    "3. Create a summary statistics.\n",
    "\n",
    "4. Perform a hypothesis test (Code from scratch).m scratch)."
   ]
  },
  {
   "cell_type": "markdown",
   "id": "39057da3-f805-4ed3-b0e0-f608ab4f6739",
   "metadata": {},
   "source": [
    "<h2> Assignment 1 </h2> \n",
    "Name: Sheena Stella Salde <br>\n",
    "Dataset: Autism Screening Adult (https://archive.ics.uci.edu/dataset/426/autism+screening+adult) <br>"
   ]
  },
  {
   "cell_type": "code",
   "execution_count": 10,
   "id": "03bd77b0-c037-42fe-9c3f-3dfa45da0797",
   "metadata": {},
   "outputs": [
    {
     "name": "stdout",
     "output_type": "stream",
     "text": [
      "3.11.5\n"
     ]
    }
   ],
   "source": [
    "import pandas as pd\n",
    "import matplotlib.pyplot as plt\n"
   ]
  },
  {
   "cell_type": "code",
   "execution_count": null,
   "id": "fa03ec21-8f79-4e1e-bf3f-c6c6a530eea4",
   "metadata": {},
   "outputs": [],
   "source": []
  },
  {
   "cell_type": "code",
   "execution_count": null,
   "id": "330fdf92-03b7-48c6-a9f0-7ac020ed6b30",
   "metadata": {},
   "outputs": [],
   "source": []
  }
 ],
 "metadata": {
  "kernelspec": {
   "display_name": "Python 3 (ipykernel)",
   "language": "python",
   "name": "python3"
  },
  "language_info": {
   "codemirror_mode": {
    "name": "ipython",
    "version": 3
   },
   "file_extension": ".py",
   "mimetype": "text/x-python",
   "name": "python",
   "nbconvert_exporter": "python",
   "pygments_lexer": "ipython3",
   "version": "3.11.5"
  }
 },
 "nbformat": 4,
 "nbformat_minor": 5
}
