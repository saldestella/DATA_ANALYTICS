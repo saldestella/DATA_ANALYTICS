{
 "cells": [
  {
   "cell_type": "markdown",
   "id": "01d8d777",
   "metadata": {},
   "source": [
    "$\\textbf{PROGRAMMING #6 ASSIGNMENT}$\n",
    "---\n",
    "Instructions:\n",
    "1. Choose a unique dataset from: https://archive.ics.uci.edu\n",
    "2. Your dataset should be unique from your classmates otherwise no points will be given for this exercise.\n",
    "\n",
    "Name: Sheena Stella Salde"
   ]
  },
  {
   "cell_type": "code",
   "execution_count": null,
   "id": "7c5bd7d1",
   "metadata": {},
   "outputs": [],
   "source": [
    "import numpy as np\n",
    "import pandas as pd\n",
    "import seaborn as sns\n",
    "import matplotlib.pyplot as plt\n",
    "from sklearn.preprocessing import LabelEncoder\n",
    "\n",
    "# Load the dataset\n",
    "url = \"https://archive.ics.uci.edu/ml/machine-learning-databases/car/car.data\"\n",
    "columns = ['buying', 'maint', 'doors', 'persons', 'lug_boot', 'safety', 'class']\n",
    "car_data = pd.read_csv(url, names=columns)\n",
    "\n",
    "# Set display options to ensure all columns are shown\n",
    "pd.set_option('display.max_columns', None)\n",
    "pd.set_option('display.width', 1000)\n",
    "\n",
    "# Display the first few rows of the dataframe\n",
    "car_data.head()"
   ]
  },
  {
   "cell_type": "markdown",
   "id": "0622726b",
   "metadata": {},
   "source": [
    "## Data Exploration"
   ]
  },
  {
   "cell_type": "markdown",
   "id": "fbd3e06d",
   "metadata": {},
   "source": [
    "**TASK: Create a correlation heatmap.**"
   ]
  },
  {
   "cell_type": "code",
   "execution_count": null,
   "id": "6c0306bd",
   "metadata": {},
   "outputs": [],
   "source": [
    "# One-hot encode categorical columns\n",
    "car_data_encoded = pd.get_dummies(car_data, columns=['buying', 'maint', 'doors', 'persons', 'lug_boot', 'safety'])\n",
    "\n",
    "# Mapping the label to 0s and 1s\n",
    "class_map = {'unacc': 0, 'acc': 1, 'good': 2, 'vgood': 3}\n",
    "car_data_encoded['class'] = car_data_encoded['class'].map(class_map)\n",
    "\n",
    "correlation_matrix = car_data_encoded.corr().abs()\n",
    "\n",
    "plt.figure(figsize=(20, 15))\n",
    "sns.heatmap(correlation_matrix, annot=True, cmap='YlOrBr', fmt='.2f', linewidths=0.5, annot_kws={\"size\": 12, \"weight\": \"bold\"})\n",
    "plt.title('Correlation Heatmap of Car Evaluation Dataset', fontsize=20, weight='bold')\n",
    "plt.xticks(fontsize=12, rotation=45, weight='bold')\n",
    "plt.yticks(fontsize=12, weight='bold')\n",
    "plt.show()"
   ]
  },
  {
   "cell_type": "markdown",
   "id": "2460a806",
   "metadata": {},
   "source": [
    "**TASK: What are the top 5 correlated frequencies with the target\\label?**"
   ]
  },
  {
   "cell_type": "code",
   "execution_count": 5,
   "id": "9d71a016",
   "metadata": {},
   "outputs": [
    {
     "ename": "NameError",
     "evalue": "name 'correlation_matrix' is not defined",
     "output_type": "error",
     "traceback": [
      "\u001b[1;31m---------------------------------------------------------------------------\u001b[0m",
      "\u001b[1;31mNameError\u001b[0m                                 Traceback (most recent call last)",
      "Cell \u001b[1;32mIn[5], line 2\u001b[0m\n\u001b[0;32m      1\u001b[0m \u001b[38;5;66;03m# Finding the top 5 correlated frequencies with the target label\u001b[39;00m\n\u001b[1;32m----> 2\u001b[0m correlation_with_target \u001b[38;5;241m=\u001b[39m correlation_matrix[\u001b[38;5;124m'\u001b[39m\u001b[38;5;124mclass\u001b[39m\u001b[38;5;124m'\u001b[39m]\u001b[38;5;241m.\u001b[39msort_values(ascending\u001b[38;5;241m=\u001b[39m\u001b[38;5;28;01mFalse\u001b[39;00m)[\u001b[38;5;241m1\u001b[39m:\u001b[38;5;241m6\u001b[39m]\n\u001b[0;32m      3\u001b[0m \u001b[38;5;28mprint\u001b[39m(\u001b[38;5;124m\"\u001b[39m\u001b[38;5;124mTop 5 correlated frequencies with the target label:\u001b[39m\u001b[38;5;124m\"\u001b[39m)\n\u001b[0;32m      4\u001b[0m \u001b[38;5;28mprint\u001b[39m(correlation_with_target)\n",
      "\u001b[1;31mNameError\u001b[0m: name 'correlation_matrix' is not defined"
     ]
    }
   ],
   "source": [
    "# Finding the top 5 correlated frequencies with the target label\n",
    "correlation_with_target = correlation_matrix['class'].sort_values(ascending=False)[1:6]\n",
    "print(correlation_with_target)"
   ]
  },
  {
   "cell_type": "markdown",
   "id": "ad113f1b",
   "metadata": {},
   "source": [
    "## Train | Test Split\n",
    "\n",
    "Our approach here will be one of using Cross Validation on 90% of the dataset, and then judging our results on a final test set of 10% to evaluate our model.\n",
    "\n",
    "**TASK: Split the data into features and labels, and then split into a training set and test set, with 90% for Cross-Validation training, and 10% for a final test set.**\n",
    "\n",
    "*Note: Do not forget to put a random_state for reproducibility.*\n",
    "\n",
    "**TASK: Create a PipeLine that contains both a StandardScaler and a KNN model**\n",
    "**TASK: Perform a grid-search with the pipeline to test various values of k and report back the best performing parameters.**\n",
    "**(HARD) TASK: Using the .cv_results_ dictionary, see if you can create a plot of the mean test scores per K value.**\n"
   ]
  },
  {
   "cell_type": "markdown",
   "id": "4f8e80fd",
   "metadata": {},
   "source": [
    "### Final Model Evaluation\n",
    "\n",
    "**TASK: Using the grid classifier object from the previous step, get a final performance classification report and confusion matrix.**"
   ]
  },
  {
   "cell_type": "code",
   "execution_count": null,
   "id": "d5dcfd28",
   "metadata": {},
   "outputs": [],
   "source": []
  },
  {
   "cell_type": "code",
   "execution_count": null,
   "id": "f396b367",
   "metadata": {},
   "outputs": [],
   "source": []
  }
 ],
 "metadata": {
  "kernelspec": {
   "display_name": "Python 3 (ipykernel)",
   "language": "python",
   "name": "python3"
  },
  "language_info": {
   "codemirror_mode": {
    "name": "ipython",
    "version": 3
   },
   "file_extension": ".py",
   "mimetype": "text/x-python",
   "name": "python",
   "nbconvert_exporter": "python",
   "pygments_lexer": "ipython3",
   "version": "3.11.5"
  }
 },
 "nbformat": 4,
 "nbformat_minor": 5
}
